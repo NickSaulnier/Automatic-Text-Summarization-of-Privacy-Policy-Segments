{
 "cells": [
  {
   "cell_type": "code",
   "execution_count": 128,
   "metadata": {},
   "outputs": [],
   "source": [
    "# Import Statements\n",
    "from sklearn.feature_extraction.text import TfidfVectorizer\n",
    "from nltk.corpus import stopwords\n",
    "from nltk.stem import PorterStemmer \n",
    "from nltk.tokenize import word_tokenize\n",
    "from sklearn.feature_extraction.text import TfidfTransformer\n",
    "from sklearn.feature_extraction.text import CountVectorizer\n",
    "from sklearn.pipeline import Pipeline\n",
    "from glob import glob\n",
    "import numpy as np\n",
    "import os\n",
    "import pandas as pd\n",
    "import re as re\n",
    "import string\n",
    "import nltk\n",
    "import json"
   ]
  },
  {
   "cell_type": "code",
   "execution_count": 678,
   "metadata": {},
   "outputs": [],
   "source": [
    "MAX_ANNOTATION_FEATURES = 100\n",
    "K_SENTENCES = 3"
   ]
  },
  {
   "cell_type": "code",
   "execution_count": 58,
   "metadata": {},
   "outputs": [],
   "source": [
    "# Function to load privacy policy from JSON\n",
    "def loadPolicy(fileString):\n",
    "    with open(fileString, encoding='utf-8') as f:\n",
    "        return json.load(f)"
   ]
  },
  {
   "cell_type": "code",
   "execution_count": 468,
   "metadata": {},
   "outputs": [],
   "source": [
    "# Function to organize privacy policy segments into a dictionary\n",
    "def loadPolicyIntoDict(policy_json):\n",
    "    section_dict = {}\n",
    "\n",
    "    for policy_section in policy_json:\n",
    "        for policy_chunk in policy_json[policy_section]:\n",
    "            if not policy_chunk['sectionCategory'] in section_dict:\n",
    "                section_dict[policy_chunk['sectionCategory']] = \"\"\n",
    "                             \n",
    "            section_dict[policy_chunk['sectionCategory']] += (policy_chunk['sectionText'])\n",
    "    \n",
    "    return section_dict\n",
    "        "
   ]
  },
  {
   "cell_type": "code",
   "execution_count": 654,
   "metadata": {},
   "outputs": [],
   "source": [
    "# Function to clean a string of unwanted chars\n",
    "def cleanString(string):\n",
    "    allowed_chars = [\"'\", \",\", \".\", \")\", \"(\", \" \", \"-\", \":\", \";\", \"@\", \"/\", \"\"]\n",
    "    \n",
    "    processed_string = ''.join([c for c in string if c.isalpha() or c.isdigit() or c in allowed_chars])\n",
    "    processed_string = re.sub(r\"\\-\", \" \", string)\n",
    "    processed_string = re.sub(r\"/n\", \" \", processed_string)\n",
    "    processed_string = re.sub(r\"\\s+\", \" \", processed_string)\n",
    "    processed_string = re.sub(r\" \\.\", \".\", processed_string)\n",
    "    processed_string = re.sub(r\" ,\", \",\", processed_string)\n",
    "    processed_string = re.sub(r\" : \", \": \", processed_string)\n",
    "    \n",
    "    return processed_string"
   ]
  },
  {
   "cell_type": "code",
   "execution_count": 616,
   "metadata": {},
   "outputs": [],
   "source": [
    "# Function to clean policy sections (Sentence-level cleaning)\n",
    "def cleanPolicySections(section_dict): \n",
    "    for (section_label, section_text) in section_dict.items():\n",
    "        section_dict[section_label] = cleanString(section_text)"
   ]
  },
  {
   "cell_type": "code",
   "execution_count": 62,
   "metadata": {},
   "outputs": [],
   "source": [
    "# Function to convert policy sections to lower case\n",
    "def convertPolicySectionsToLower(section_dict):\n",
    "    for (section_label, section_text) in section_dict.items():\n",
    "        section_dict[section_label] = section_text.lower()"
   ]
  },
  {
   "cell_type": "code",
   "execution_count": 63,
   "metadata": {},
   "outputs": [],
   "source": [
    "# Function to tokenize privacy policy sections at the sentence level\n",
    "def tokenizeSectionSentences(section_dict):\n",
    "    sent_detector = nltk.data.load('tokenizers/punkt/english.pickle')\n",
    "    sentence_tokenized_sections = {}\n",
    "    \n",
    "    for (section_label, section_text) in section_dict.items():\n",
    "        sentence_tokenized_sections[section_label] = sent_detector.tokenize(section_text)\n",
    "        \n",
    "    return sentence_tokenized_sections"
   ]
  },
  {
   "cell_type": "code",
   "execution_count": 94,
   "metadata": {},
   "outputs": [],
   "source": [
    "# Function to remove stopwords from a string\n",
    "def removeStopwords(text):\n",
    "    stop_words = set(stopwords.words('english'))\n",
    "    word_tokens = word_tokenize(text)\n",
    "    filtered_string_array = [word for word in word_tokens if not word in stop_words]\n",
    "    filtered_string  = ' '.join(filtered_string_array)\n",
    "    return filtered_string"
   ]
  },
  {
   "cell_type": "code",
   "execution_count": 95,
   "metadata": {},
   "outputs": [],
   "source": [
    "# Function to remove stopwords from each sentence in each section, retaining sentence structure\n",
    "def removeStopWordsRetainSentence(sentence_tokenized_sections):\n",
    "    sentence_tokenized_sections_no_stops = {}\n",
    "    \n",
    "    for (section_label, section_text) in sentence_tokenized_sections.items():\n",
    "        sentence_tokenized_sections_no_stops[section_label] = []\n",
    "        for sentence in section_text:\n",
    "            sentence_tokenized_sections_no_stops[section_label].append(removeStopwords(sentence))\n",
    "    \n",
    "    return sentence_tokenized_sections_no_stops"
   ]
  },
  {
   "cell_type": "code",
   "execution_count": 101,
   "metadata": {},
   "outputs": [],
   "source": [
    "# function to remove punctuation from a string\n",
    "def removePunctuationFromString(text):\n",
    "    return ''.join(text).translate(str.maketrans('', '', string.punctuation))"
   ]
  },
  {
   "cell_type": "code",
   "execution_count": 102,
   "metadata": {},
   "outputs": [],
   "source": [
    "# Function to remove punctuation from each sentence in each section\n",
    "def removePunctuationFromSections(sentence_tokenized_sections):\n",
    "    sentence_tokenized_sections_no_punct = {}\n",
    "    \n",
    "    for (section_label, section_text) in sentence_tokenized_sections.items():\n",
    "        sentence_tokenized_sections_no_punct[section_label] = []\n",
    "        for sentence in section_text:\n",
    "            sentence_tokenized_sections_no_punct[section_label].append(removePunctuationFromString(sentence))\n",
    "            \n",
    "    return sentence_tokenized_sections_no_punct"
   ]
  },
  {
   "cell_type": "code",
   "execution_count": 114,
   "metadata": {},
   "outputs": [],
   "source": [
    "# Fuction to stem all words in a string, returning an array of word stems\n",
    "def stemString(text):\n",
    "    ps = PorterStemmer()\n",
    "    word_tokens = word_tokenize(text)\n",
    "    return [ps.stem(word) for word in word_tokens]"
   ]
  },
  {
   "cell_type": "code",
   "execution_count": 418,
   "metadata": {},
   "outputs": [],
   "source": [
    "# Function to stem all words in each sentence for every privacy policy section\n",
    "def stemSections(sections_dict):\n",
    "    stemmed_sections = {}\n",
    "    \n",
    "    for (section_label, section_text) in sections_dict.items():\n",
    "        stemmed_sections[section_label] = []\n",
    "        for sentence in section_text:\n",
    "            stemmed_sections[section_label].append(' '.join(stemString(sentence)))\n",
    "            \n",
    "    return stemmed_sections"
   ]
  },
  {
   "cell_type": "code",
   "execution_count": 119,
   "metadata": {},
   "outputs": [],
   "source": [
    "# Function to perform a full cleaning and stemming of a string, return an array of cleaned and stemmed words\n",
    "def stringWash(text):\n",
    "    clean_text = cleanString(text).lower()\n",
    "    clean_text = removeStopwords(clean_text)\n",
    "    clean_text = removePunctuationFromString(clean_text)\n",
    "    return stemString(clean_text)"
   ]
  },
  {
   "cell_type": "code",
   "execution_count": 116,
   "metadata": {},
   "outputs": [],
   "source": [
    "# Function to create a dictionary of DataFrames for each privacy policy section\n",
    "def generateSectionDataFrames(sections_dict):\n",
    "    section_dfs = {}\n",
    "    \n",
    "    for (section_label, section_text_array) in sections_dict.items():\n",
    "        section_dfs[section_label] = pd.DataFrame(section_text_array, columns=['sentences'])\n",
    "        \n",
    "    return section_dfs"
   ]
  },
  {
   "cell_type": "code",
   "execution_count": 692,
   "metadata": {},
   "outputs": [],
   "source": [
    "# Load twitch privacy policy segments and clean data\n",
    "twitch_policy_json = loadPolicy('../Data/Privacy-Sections/Twitch.js')\n",
    "twitch_section_dict = loadPolicyIntoDict(twitch_policy_json)\n",
    "cleanPolicySections(twitch_section_dict)\n",
    "\n",
    "# Keep a copy of the twitch privacy policy segments with case\n",
    "twitch_section_dict_with_case = twitch_section_dict.copy()\n",
    "\n",
    "# Convert twitch privacy policy segments to lower case\n",
    "convertPolicySectionsToLower(twitch_section_dict)\n",
    "\n",
    "# Tokenize twitch policy sections (lower case) at the sentence level\n",
    "sentence_tokenized_sections_twitch = tokenizeSectionSentences(twitch_section_dict)\n",
    "\n",
    "# Remove stopwords from each sentence in the twitch privacy policy, retaining sentence-level structuring\n",
    "sentence_tokenized_sections_twitch_no_stops = removeStopWordsRetainSentence(sentence_tokenized_sections_twitch)\n",
    "\n",
    "# Remove punctuation from each sentence in twitch privacy policy\n",
    "sentence_tokenized_sections_twitch_no_stops_no_punct = removePunctuationFromSections(sentence_tokenized_sections_twitch_no_stops)\n",
    "\n",
    "# Stem the text of each sentence in each section - each sentence is now an array of stemmed words\n",
    "stemmed_sections = stemSections(sentence_tokenized_sections_twitch_no_stops_no_punct)\n",
    "\n",
    "# Create a dictionary of DataFrames for each stemmed, cleaned section (columns=['sentence index', 'sentences'])\n",
    "section_dfs = generateSectionDataFrames(stemmed_sections)"
   ]
  },
  {
   "cell_type": "code",
   "execution_count": 14,
   "metadata": {},
   "outputs": [],
   "source": [
    "# Function to concatenate all OPP-115 annotation files into a single CSV file\n",
    "def concatenateAnnotationFiles(list_of_files, file_out):  \n",
    "    for file in list_of_files:\n",
    "        appended_annotations = pd.concat([pd.read_csv(file, usecols=[5, 6], names=[\"Section\", \"Annotations\"]) for file in list_of_files])\n",
    "        appended_annotations.to_csv(file_out, index=False, encoding=\"utf-8\")\n",
    "        "
   ]
  },
  {
   "cell_type": "code",
   "execution_count": 14,
   "metadata": {},
   "outputs": [],
   "source": [
    "# Concatenate all OPP-115 annotation files into a single CSV file\n",
    "working_dir = '..\\\\Privacy-Policy-Summary\\\\Text-Summarizer'\n",
    "csv_file_path = '..\\\\Privacy-Policy-Summary\\\\Data\\\\OPP-115\\\\annotations'\n",
    "output_file ='..\\\\Privacy-Policy-Summary\\\\Data\\\\Collected-Annotations\\\\collectedAnnotations.csv'\n",
    "\n",
    "os.chdir(csv_file_path)\n",
    "file_pattern = \".csv\"\n",
    "list_of_files = os.listdir()\n",
    "\n",
    "annotations_df = concatenateAnnotationFiles(list_of_files, output_file)\n",
    "\n",
    "os.chdir(working_dir)"
   ]
  },
  {
   "cell_type": "code",
   "execution_count": 15,
   "metadata": {},
   "outputs": [],
   "source": [
    "# Generate a single DataFrame for the OPP-115 annotation CSV files\n",
    "input_file ='..\\\\Privacy-Policy-Summary\\\\Data\\\\Collected-Annotations\\\\collectedAnnotations.csv'\n",
    "\n",
    "annotations_df = pd.read_csv(input_file, names=[\"Section\", \"Annotations\"])"
   ]
  },
  {
   "cell_type": "code",
   "execution_count": 16,
   "metadata": {
    "scrolled": true
   },
   "outputs": [],
   "source": [
    "# Organize all annotations into their respective sections\n",
    "def collectSectionAnnotations(annotations_df):\n",
    "    section_categories = annotations_df[\"Section\"].unique()[2:]\n",
    "    section_annotations = {}\n",
    "\n",
    "    for section in section_categories:\n",
    "        section_annotations[section] = []\n",
    "        section_annotations[section].append(annotations_df.loc[annotations_df[\"Section\"] == section])\n",
    "    \n",
    "    return section_annotations\n"
   ]
  },
  {
   "cell_type": "code",
   "execution_count": 120,
   "metadata": {},
   "outputs": [],
   "source": [
    "# Organize annotations \n",
    "section_annotations_dict = collectSectionAnnotations(annotations_df)"
   ]
  },
  {
   "cell_type": "code",
   "execution_count": 317,
   "metadata": {
    "scrolled": false
   },
   "outputs": [],
   "source": [
    "# Function to filter, clean, and generate DataFrames of annotations for each section. Returns a dictionary of DataFrames (columns=['Sub Section', 'Selected Text'])\n",
    "def generateSectionAnnotationDataFrames(section_annotations_dict):\n",
    "    section_annotation_df_dict = {}\n",
    "\n",
    "    for section in section_annotations_dict:\n",
    "        section_annotation_df = pd.DataFrame(columns=['Sub Section', 'Selected Text'])\n",
    "        section_annotation_df_dict[section] = section_annotation_df\n",
    "        for annotation_blob in section_annotations[section]:\n",
    "            for blob in annotation_blob['Annotations']:\n",
    "                json_blob = json.loads(blob)\n",
    "                for sub_section, text in json_blob.items():\n",
    "                    if (('selectedText' in text) and (text['selectedText'] != 'null') and (text['selectedText'] != 'Not selected')):\n",
    "                        section_annotation_df_dict[section] = section_annotation_df_dict[section].append({'Sub Section': ' '.join(stringWash(sub_section)), 'Selected Text': ' '.join(stringWash(text['selectedText']))}, ignore_index=True)\n",
    "    \n",
    "    return section_annotation_df_dict           "
   ]
  },
  {
   "cell_type": "code",
   "execution_count": null,
   "metadata": {},
   "outputs": [],
   "source": [
    "# Filter, clean, and generate DataFrames of annotations for each section.\n",
    "section_annotation_df_dict = generateSectionAnnotationDataFrames(section_annotations_dict)  "
   ]
  },
  {
   "cell_type": "code",
   "execution_count": 244,
   "metadata": {},
   "outputs": [],
   "source": [
    "# Function to get max n-gram length for each section's sub-sections\n",
    "def getMaxSubsectionNGramLengths(section_annotation_df_dict):\n",
    "    section_sub_section_max_lens = {}\n",
    "    \n",
    "    for section, df in section_annotation_df_dict.items():\n",
    "        sub_section_values = df['Sub Section'].unique().tolist()\n",
    "        max_ngram = 0      \n",
    "        for value in sub_section_values:\n",
    "            word_tokens = word_tokenize(value)\n",
    "            if len(word_tokens) > max_ngram:\n",
    "                max_ngram = len(word_tokens)\n",
    "        section_sub_section_max_lens[section] = max_ngram\n",
    "    \n",
    "    return section_sub_section_max_lens\n"
   ]
  },
  {
   "cell_type": "code",
   "execution_count": 337,
   "metadata": {},
   "outputs": [],
   "source": [
    "# Get max n-gram length for each section's sub-sections\n",
    "section_sub_section_max_lens = getMaxSubsectionNGramLengths(section_annotation_df_dict)"
   ]
  },
  {
   "cell_type": "code",
   "execution_count": 367,
   "metadata": {},
   "outputs": [],
   "source": [
    "# Function to create CountVectorizers and TfidfTransformers for each section's sub-sections\n",
    "def generateSubSectionPipelines(section_annotation_df_dict, section_sub_section_max_lens):\n",
    "    section_sub_section_pipelines_dict = {}\n",
    "    \n",
    "    for section, df in section_annotation_df_dict.items():\n",
    "        section_sub_section_pipelines_dict[section] = []\n",
    "    \n",
    "        if (section_sub_section_max_lens[section] == 3):\n",
    "            section_sub_section_pipelines_dict[section].append(Pipeline([('count', CountVectorizer(ngram_range=(1,1))),('tfidf', TfidfTransformer())]).fit(df['Sub Section']))\n",
    "            section_sub_section_pipelines_dict[section].append(Pipeline([('count', CountVectorizer(ngram_range=(2,2))),('tfidf', TfidfTransformer())]).fit(df['Sub Section']))\n",
    "            section_sub_section_pipelines_dict[section].append(Pipeline([('count', CountVectorizer(ngram_range=(3,3))),('tfidf', TfidfTransformer())]).fit(df['Sub Section']))\n",
    "        else:\n",
    "            section_sub_section_pipelines_dict[section].append(Pipeline([('count', CountVectorizer(ngram_range=(1,1))),('tfidf', TfidfTransformer())]).fit(df['Sub Section']))\n",
    "            section_sub_section_pipelines_dict[section].append(Pipeline([('count', CountVectorizer(ngram_range=(2,2))),('tfidf', TfidfTransformer())]).fit(df['Sub Section']))\n",
    "  \n",
    "    return section_sub_section_pipelines_dict\n"
   ]
  },
  {
   "cell_type": "code",
   "execution_count": 681,
   "metadata": {},
   "outputs": [],
   "source": [
    "# Create CountVectorizers and TfidfTransformers for each section's sub-sections\n",
    "section_sub_section_pipelines_dict = generateSubSectionPipelines(section_annotation_df_dict, section_sub_section_max_lens)"
   ]
  },
  {
   "cell_type": "code",
   "execution_count": 313,
   "metadata": {},
   "outputs": [],
   "source": [
    "# Function to generate tf-idf scores for every sub-section label in each section \n",
    "def generateTfidfSubSectionScores(section_sub_section_pipelines_dict, section_sub_section_max_lens, section_annotation_df_dict):\n",
    "    section_subsection_tfidf = {}\n",
    "    \n",
    "    for section in section_sub_section_pipelines_dict:\n",
    "        section_subsection_tfidf[section] = {}\n",
    "        \n",
    "        for sub_section in section_annotation_df_dict[section]['Sub Section'].unique().tolist():\n",
    "            sub_section_length = len(word_tokenize(sub_section))\n",
    "        \n",
    "            if (sub_section_length == 3):\n",
    "                for idx, feature_name in enumerate(section_sub_section_pipelines_dict[section][2]['count'].get_feature_names()):\n",
    "                    if ((sub_section == feature_name) and not(sub_section in section_subsection_tfidf[section])):\n",
    "                        section_subsection_tfidf[section][sub_section] = section_sub_section_pipelines_dict[section][2]['tfidf'].idf_[idx]\n",
    "            elif ((sub_section_length) == 2 and not(sub_section in section_subsection_tfidf[section])):\n",
    "                for idx, feature_name in enumerate(section_sub_section_pipelines_dict[section][1]['count'].get_feature_names()):\n",
    "                    if ((sub_section == feature_name) and not(sub_section in section_subsection_tfidf[section])):\n",
    "                        section_subsection_tfidf[section][sub_section] = section_sub_section_pipelines_dict[section][1]['tfidf'].idf_[idx]\n",
    "            else:\n",
    "                for idx, feature_name in enumerate(section_sub_section_pipelines_dict[section][0]['count'].get_feature_names()):\n",
    "                    if ((sub_section == feature_name) and not(sub_section in section_subsection_tfidf[section])):\n",
    "                        section_subsection_tfidf[section][sub_section] = section_sub_section_pipelines_dict[section][0]['tfidf'].idf_[idx]\n",
    "    \n",
    "    return section_subsection_tfidf\n"
   ]
  },
  {
   "cell_type": "code",
   "execution_count": null,
   "metadata": {},
   "outputs": [],
   "source": [
    "# Generate tf-idf scores for every sub-section label in each section\n",
    "section_subsection_tfidf = generateTfidfSubSectionScores(section_sub_section_pipelines_dict, section_sub_section_max_lens, section_annotation_df_dict)"
   ]
  },
  {
   "cell_type": "code",
   "execution_count": 330,
   "metadata": {},
   "outputs": [],
   "source": [
    "# Function to noramalize TF-IDF sub-section values to be 0.0 - 1.0\n",
    "def noramlizeSubSectionTfidf(section_subsection_tfidf):\n",
    "    normalized_section_subsection_tfidf = {}\n",
    "    \n",
    "    for section in section_subsection_tfidf:\n",
    "        section_tfidf = []\n",
    "        normalized_section_subsection_tfidf[section] = {}\n",
    "        \n",
    "        for sub_section in section_subsection_tfidf[section]:\n",
    "            section_tfidf.append(section_subsection_tfidf[section][sub_section])\n",
    "        \n",
    "        if len(section_subsection_tfidf[section]) == 1:\n",
    "            normalized_section_tfidf = []\n",
    "            normalized_section_tfidf.append(0.0)\n",
    "        else:\n",
    "            normalized_section_tfidf = [float(idx) / max(section_tfidf) for idx in section_tfidf]\n",
    "\n",
    "        for idx, sub_section in enumerate(section_subsection_tfidf[section]):\n",
    "            normalized_section_subsection_tfidf[section][sub_section] = normalized_section_tfidf[idx]\n",
    "            \n",
    "    return normalized_section_subsection_tfidf\n"
   ]
  },
  {
   "cell_type": "code",
   "execution_count": 375,
   "metadata": {},
   "outputs": [],
   "source": [
    "# Noramalize TF-IDF sub-section values to be 0.0 - 1.0\n",
    "normalized_section_subsection_tfidf = noramlizeSubSectionTfidf(section_subsection_tfidf)"
   ]
  },
  {
   "cell_type": "code",
   "execution_count": 403,
   "metadata": {},
   "outputs": [],
   "source": [
    "# Function to create CountVectorizers and TfidfTransformers for each annotation section's selected text\n",
    "def generateSectionTextPipelines(section_annotation_df_dict):\n",
    "    section_selected_text_pipelines_dict = {}\n",
    "    \n",
    "    for section, df in section_annotation_df_dict.items():\n",
    "        section_selected_text_pipelines_dict[section] = Pipeline([('count', CountVectorizer(ngram_range=(1,3), max_features=MAX_ANNOTATION_FEATURES)),('tfidf', TfidfTransformer())]).fit(df['Selected Text'])\n",
    "    \n",
    "    return section_selected_text_pipelines_dict\n"
   ]
  },
  {
   "cell_type": "code",
   "execution_count": 521,
   "metadata": {},
   "outputs": [],
   "source": [
    "# Create CountVectorizers and TfidfTransformers for each section's selected text\n",
    "section_texts_pipelines_dict = generateSectionTextPipelines(section_annotation_df_dict)"
   ]
  },
  {
   "cell_type": "code",
   "execution_count": 363,
   "metadata": {},
   "outputs": [],
   "source": [
    "# Function to generate stem lists for each section's sub-section\n",
    "def generateStemListsForSubSections(section_annotation_df_dict):\n",
    "    section_subsection_stem_list = {}\n",
    "    \n",
    "    for section in section_annotation_df_dict:\n",
    "        section_subsection_stem_list[section] = {}\n",
    "\n",
    "        for sub_section in section_annotation_df_dict[section]['Sub Section'].unique():\n",
    "            section_subsection_stem_list[section][sub_section] = set()\n",
    "            \n",
    "        for index, row in section_annotation_df_dict[section].iterrows():\n",
    "            stem_tokens = word_tokenize(row['Selected Text'])\n",
    "            sub_section = row['Sub Section']\n",
    "            \n",
    "            for stem in stem_tokens:\n",
    "                section_subsection_stem_list[section][sub_section].add(stem)\n",
    "                    \n",
    "    return section_subsection_stem_list"
   ]
  },
  {
   "cell_type": "code",
   "execution_count": 364,
   "metadata": {},
   "outputs": [],
   "source": [
    "# Generate stem lists for each section's sub-section\n",
    "section_subsection_stem_list = generateStemListsForSubSections(section_annotation_df_dict)"
   ]
  },
  {
   "cell_type": "code",
   "execution_count": 423,
   "metadata": {},
   "outputs": [],
   "source": [
    "# Function to modify section text tfidf scores based on the normalized sub-section tf-idf scores\n",
    "def computeFinalSectionTextTfidf(section_texts_pipelines_dict, normalized_section_subsection_tfidf, section_subsection_stem_list):\n",
    "    for section in normalized_section_subsection_tfidf:  \n",
    "        for idx, term in enumerate(section_texts_pipelines_dict[section]['count'].get_feature_names()):\n",
    "            for sub_section in section_subsection_stem_list[section]:\n",
    "                if term in section_subsection_stem_list[section][sub_section]:\n",
    "                    section_texts_pipelines_dict[section]['tfidf'].idf_[idx] += normalized_section_subsection_tfidf[section][sub_section]\n",
    "                    "
   ]
  },
  {
   "cell_type": "code",
   "execution_count": 426,
   "metadata": {},
   "outputs": [],
   "source": [
    "computeFinalSectionTextTfidf(section_texts_pipelines_dict, normalized_section_subsection_tfidf, section_subsection_stem_list)"
   ]
  },
  {
   "cell_type": "code",
   "execution_count": 517,
   "metadata": {},
   "outputs": [],
   "source": [
    "# Function to generate a dictionary for each feature name and its corresponding (global) tfidf score for each annotation section\n",
    "def generateFeatureTfidfDict(section_texts_pipelines_dict):\n",
    "    annotation_section_feature_tfidf_dict = {}\n",
    "    \n",
    "    for section in section_texts_pipelines_dict:\n",
    "        annotation_section_feature_tfidf_dict[section] = {}\n",
    "        for idx, feature_name in enumerate(section_texts_pipelines_dict[section]['count'].get_feature_names()):\n",
    "            annotation_section_feature_tfidf_dict[section][feature_name] = section_texts_pipelines_dict[section]['tfidf'].idf_[idx]\n",
    "            \n",
    "    return annotation_section_feature_tfidf_dict"
   ]
  },
  {
   "cell_type": "code",
   "execution_count": 520,
   "metadata": {},
   "outputs": [],
   "source": [
    "# Generate a dictionary for each feature name and its corresponding (global) tfidf score for each annotation section\n",
    "annotation_section_feature_tfidf_dict = generateFeatureTfidfDict(section_texts_pipelines_dict)"
   ]
  },
  {
   "cell_type": "code",
   "execution_count": 495,
   "metadata": {},
   "outputs": [],
   "source": [
    "# Function to generate a document-term matrix for each privacy policy section, using the topics extracted from the OPP-115 annotations\n",
    "def generatePolicySectionDocumentTermMatrices(section_dfs, section_texts_pipelines_dict):\n",
    "    policy_sections__text_pipelines_dict = {}\n",
    "    \n",
    "    for section in section_texts_pipelines_dict:\n",
    "        if section in section_dfs:\n",
    "            pipe = Pipeline([('count', CountVectorizer(vocabulary=section_texts_pipelines_dict[section]['count'].get_feature_names())), ('tfidf', TfidfTransformer())]).fit(section_dfs[section]['sentences'])\n",
    "            policy_sections__text_pipelines_dict[section] = pipe.transform(section_dfs[section]['sentences']).toarray()\n",
    "        \n",
    "    return policy_sections__text_pipelines_dict"
   ]
  },
  {
   "cell_type": "code",
   "execution_count": 680,
   "metadata": {},
   "outputs": [],
   "source": [
    "# Generate a document-term matrix for each privacy policy section using the topics extracted from the OPP-115 annotations\n",
    "policy_sections__text_pipelines_dict = generatePolicySectionDocumentTermMatrices(section_dfs, section_texts_pipelines_dict)"
   ]
  },
  {
   "cell_type": "code",
   "execution_count": 525,
   "metadata": {},
   "outputs": [],
   "source": [
    "# Function to weight policy section text tfidf scores based on tfidf scores of topics calculated from the section annotations\n",
    "def weightPolicySectionTfidfScores(policy_sections__text_pipelines_dict, annotation_section_feature_tfidf_dict):\n",
    "    for section in policy_sections__text_pipelines_dict:\n",
    "        for sentence_tfidfs in policy_sections__text_pipelines_dict[section]:\n",
    "            for idx, topic in enumerate(section_texts_pipelines_dict[section]['count'].get_feature_names()):\n",
    "                if sentence_tfidfs[idx] > 0.0:\n",
    "                    sentence_tfidfs[idx] += annotation_section_feature_tfidf_dict[section][topic]"
   ]
  },
  {
   "cell_type": "code",
   "execution_count": 683,
   "metadata": {},
   "outputs": [],
   "source": [
    "# Weight policy section text tfidf scores based on tfidf scores of topics calculated from the section annotations\n",
    "weightPolicySectionTfidfScores(policy_sections__text_pipelines_dict, annotation_section_feature_tfidf_dict)"
   ]
  },
  {
   "cell_type": "code",
   "execution_count": 684,
   "metadata": {},
   "outputs": [],
   "source": [
    "# Function to get the row indices of the top k sentences in each section\n",
    "def getTopKSectionRowIndices(policy_sections__text_pipelines_dict):\n",
    "    section_sentence_scores = {}\n",
    "    section_sentence_scores_sorted = {}\n",
    "    \n",
    "    for section in policy_sections__text_pipelines_dict:\n",
    "        section_sentence_scores[section] = {}\n",
    "        section_sentence_scores_sorted[section] = []\n",
    "        \n",
    "        for idx, sentence_tfidfs_array in enumerate(policy_sections__text_pipelines_dict[section]):\n",
    "            section_sentence_scores[section][idx] = np.sum(sentence_tfidfs_array, axis=0)\n",
    "        section_sentence_scores_sorted[section] = sorted(section_sentence_scores[section].items(), key=lambda x: x[1], reverse=True)\n",
    "        \n",
    "        if (len(policy_sections__text_pipelines_dict[section]) >= K_SENTENCES):\n",
    "            section_sentence_scores_sorted[section] = section_sentence_scores_sorted[section][:K_SENTENCES]\n",
    "        else:\n",
    "            section_sentence_scores_sorted[section] = section_sentence_scores_sorted[section][:len(policy_sections__text_pipelines_dict[section])]          \n",
    "                    \n",
    "    return section_sentence_scores_sorted"
   ]
  },
  {
   "cell_type": "code",
   "execution_count": 685,
   "metadata": {},
   "outputs": [],
   "source": [
    "# Get the row indices of the top k sentences in each section\n",
    "section_sentence_scores_sorted = getTopKSectionRowIndices(policy_sections__text_pipelines_dict)"
   ]
  },
  {
   "cell_type": "code",
   "execution_count": 686,
   "metadata": {},
   "outputs": [],
   "source": [
    "# Prepare a sections dictionary with tokenized sentences that are clean and ready to be extracted\n",
    "twitch_section_dict_with_case_sentence_tokenized = tokenizeSectionSentences(twitch_section_dict_with_case)\n",
    "extractable_section_dfs = generateSectionDataFrames(twitch_section_dict_with_case_sentence_tokenized)"
   ]
  },
  {
   "cell_type": "code",
   "execution_count": 690,
   "metadata": {},
   "outputs": [],
   "source": [
    "# Function to extract and combine the top k sentences in each section\n",
    "def extractAndCombineTopKSectionSentences(section_sentence_scores_sorted, cleaned_section_dfs):\n",
    "    section_summaries_dict = {}\n",
    "    \n",
    "    for section in section_sentence_scores_sorted:\n",
    "        section_summaries_dict[section] = \"\";\n",
    "        for sentence_idx_score_tuple in section_sentence_scores_sorted[section]:\n",
    "            section_summaries_dict[section] += ' ' + cleaned_section_dfs[section].iloc[sentence_idx_score_tuple[0], 0]\n",
    "            \n",
    "    return section_summaries_dict"
   ]
  },
  {
   "cell_type": "code",
   "execution_count": 707,
   "metadata": {},
   "outputs": [
    {
     "name": "stdout",
     "output_type": "stream",
     "text": [
      "First Party Collection/Use:\n",
      "Examples of how Twitch uses automatically collected information include to: (a) automatically update the Twitch application on your system; (b) remember your information so that you will not have to re enter it during your visit or the next time you access the Twitch Services; (c) provide customized advertisements, content, and information; (d) monitor the effectiveness of marketing campaigns; (e) monitor and store aggregate site usage metrics such as total number of visitors and pages accessed; and (f) track your entries, submissions, and status in any promotions or other activities.  Personal Information Twitch Collects User provided Information: You may provide a variety of information about yourself to us, such as your name, email address, postal mailing address, telephone number, credit card number, and billing information when you register for Twitch Services; upload, purchase, view, or download certain content or products from the Twitch Services; enter contests or sweepstakes; or otherwise use the features and functionality of the Twitch Services. How Twitch Uses Personal Information Twitch uses such information to operate, maintain, enhance, provide, create, and develop all of the features, functionality, and services (new or existing) found on the Twitch Services; improve your experience with the Twitch Services by delivering content that we hope you will find relevant and interesting, including advertising and marketing messages; allow you to comment on content, and participate in online games, contests, or rewards programs; and understand the usage trends of our users.\n",
      "\n",
      "\n",
      "\n",
      "Data Retention:\n",
      "If you close your account, Twitch may retain other information about you for the activities described in this Privacy Policy, or as permitted or required by applicable law. For Twitch Services other than twitch.tv, you may update or delete information tied to your account, or close an account, by accessing the “My Account” area of the service or by submitting a help ticket to that service.  Account Closure & Deletion If you would like to close your account and delete your profile information on www.twitch.tv go to http://www.twitch.tv/user/delete_account.\n",
      "\n",
      "\n",
      "\n",
      "International and Specific Audiences:\n",
      "California Privacy Rights California law permits users who are California residents to request and obtain from us once a year, free of charge, a list of the third parties to whom we have disclosed their personal information (if any) for their direct marketing purposes in the prior calendar year, as well as the type of personal information disclosed to those parties. If you are the parent or legal guardian of a child under 13 who has become a Twitch Services member, then please contact Twitch at privacy@twitch.tv to have that child’s account terminated and personal information deleted. Twitch does not currently disclose personal information to third parties for their direct marketing purposes.\n",
      "\n",
      "\n",
      "\n",
      "User Choice/Control:\n",
      "For more information about third party advertising networks and similar entities that use these technologies, see http://www.aboutads.info/consumers, and to opt out of such ad networks’ and services’ advertising practices, for example, Google Analytics advertising features and Google’s use of cookies, go to the Network Advertising Initiative opt out page, the Digital Advertising Alliance opt out page, or the Your Online Choices page.  We use your email address to communicate with you, including to notify you of major Twitch Services updates, for customer service purposes, or to contact you regarding any content that you have posted to or downloaded from the Twitch Services.Twitch may periodically send promotional materials or notifications to you related to the Twitch Services. If you want to stop receiving promotional materials, you can go to your account settings once you have logged in to the Twitch Services or follow the unsubscribe instructions at the bottom of any email from us.\n",
      "\n",
      "\n",
      "\n",
      "Third Party Sharing/Collection:\n",
      "By serving these advertisements directly to you, these companies can set their own cookies on your computer and trigger their own Web beacons and other tracking technologies to measure the effectiveness of their advertisements, and to collect and track information such as demographic information, inferred interests, aggregated information, and activity to assist them in personalizing the advertising content delivered to you. Twitch may make information available to our affiliates (meaning entities controlled by, controlling, or under common control with Twitch), including Amazon.com, Inc. and its subsidiaries.Twitch may disclose user information if we believe in good faith that such disclosure is necessary to comply with U.S. state and federal laws or other applicable laws around the world (for example, in the country of your residence), or respond to a court order, judicial or other government request, subpoena, or warrant in the manner legally required. We may share such information for the following purposes: We may disclose such information to service providers working on our behalf, such as, to: provide website hosting, maintenance, and security services; fulfill orders; conduct data analysis and create reports; offer certain functionality; or assist Twitch in improving the Twitch Services and creating new services and features.\n",
      "\n",
      "\n",
      "\n",
      "Policy Change:\n",
      "If Twitch changes this Privacy Policy, we will provide you notice of these changes, such as by sending an email, posting a notice on the Twitch Services, or updating the “Last Updated” date above.  Changes and Updates to this Privacy Policy Twitch reserves the right to change, modify, add, or remove portions of this Privacy Policy at any time (for example to reflect updates to the Twitch Services or to reflect changes in the law). Please check this Privacy Policy periodically for those changes.\n",
      "\n",
      "\n",
      "\n",
      "Data Security:\n",
      "We cannot guarantee that such information may not be accessed, disclosed, altered, or destroyed by breach of any of our physical, technical, or managerial safeguards.  Data Security Twitch uses a variety of managerial, technical, and physical measures to protect the integrity and security of your information. We cannot ensure or warrant the security of any information you transmit to Twitch, and you do so at your own risk.\n",
      "\n",
      "\n",
      "\n",
      "Do Not Track:\n",
      "DNT is a way for users to inform websites and services that they do not want certain information about their webpage visits collected over time and across websites or online services. We are committed to providing you with meaningful choices about the information collected on our website for third party purposes, and that is why we provide the Network Advertising Initiative and the Digital Advertising Alliance opt out links above. However, we do not recognize or respond to browser initiated DNT signals, as the Internet industry is currently still working toward defining exactly what DNT means, what it means to comply with DNT, and a common approach to responding to DNT.\n",
      "\n",
      "\n",
      "\n"
     ]
    }
   ],
   "source": [
    "# Extract and combine the top k sentences in each section. Print the results.\n",
    "section_summaries_dict = extractAndCombineTopKSectionSentences(section_sentence_scores_sorted, extractable_section_dfs)\n",
    "\n",
    "for section in section_summaries_dict:\n",
    "    print(section + ':')\n",
    "    print(section_summaries_dict[section][1:])\n",
    "    print(\"\\n\\n\")"
   ]
  },
  {
   "cell_type": "code",
   "execution_count": 712,
   "metadata": {},
   "outputs": [
    {
     "name": "stdout",
     "output_type": "stream",
     "text": [
      "First Party Collection/Use:\n",
      "Personal Information Twitch Collects User provided Information: You may provide a variety of information about yourself to us, such as your name, email address, postal mailing address, telephone number, credit card number, and billing information when you register for Twitch Services; upload, purchase, view, or download certain content or products from the Twitch Services; enter contests or sweepstakes; or otherwise use the features and functionality of the Twitch Services. Automatically Collected Information: When you access the Twitch Services or open one of our emails, we may automatically record and store certain information about your system by using cookies and other types of technologies. Cookies are small text files containing a string of alphanumeric characters that are sent to your browser. For information about what cookies are, how they work, how Twitch uses them, and how to remove them, please see our Cookie Policy Examples of such information we automatically collect may include Internet Protocol address (“ IP Address ”), a unique user ID, device and browser types and identifiers, referring and exit page addresses, software and system type, and information about your usage of Twitch Services. Examples of how Twitch uses automatically collected information include to: (a) automatically update the Twitch application on your system; (b) remember your information so that you will not have to re enter it during your visit or the next time you access the Twitch Services; (c) provide customized advertisements, content, and information; (d) monitor the effectiveness of marketing campaigns; (e) monitor and store aggregate site usage metrics such as total number of visitors and pages accessed; and (f) track your entries, submissions, and status in any promotions or other activities. Information from Other Sources: We may obtain information about you from third parties and sources other than the Twitch Services, such as advertisers or social media networks such as Facebook for which you have approved our access. When you access the Twitch Services through social media networks or when you connect the Twitch Services to social media networks, you are authorizing Twitch to collect, store, and use such information and content in accordance with this Privacy Policy. We may also obtain information from third party services regarding your use of such services, including about your use of the content you choose to broadcast through the Twitch Services. If we combine or associate information from other sources with information that we collect through the Twitch Services, we will treat the combined information in accordance with this Privacy Policy. How Twitch Uses Personal Information Twitch uses such information to operate, maintain, enhance, provide, create, and develop all of the features, functionality, and services (new or existing) found on the Twitch Services; improve your experience with the Twitch Services by delivering content that we hope you will find relevant and interesting, including advertising and marketing messages; allow you to comment on content, and participate in online games, contests, or rewards programs; and understand the usage trends of our users. \n",
      "\n",
      "\n",
      "\n",
      "Third Party Sharing/Collection:\n",
      "You may share personal information when using the Twitch Services. One example is when you provide information about yourself as part of the Twitch account creation process. Another is when you take certain actions on the Twitch Services that are public or intended to be public in nature, such as when you broadcast content, participate in a chat room, post profile information, follow a channel, or subscribe to a broadcast channel. Given the social nature of some of the Twitch Services, that information may be collected, used, or disclosed by others who are part of that social interaction. In addition, some features of the Twitch Services are designed to provide others with information about user activity, such as identifying the user who created a particular Clip or the subscription status of users for a given channel. We encourage you to be mindful of this when considering your activity on the Twitch Services. When Twitch Discloses Personal Information Twitch does not share information that can identify you personally with third parties for their marketing or promotional uses without your consent. We may share such information for the following purposes: We may disclose such information to service providers working on our behalf, such as, to: provide website hosting, maintenance, and security services; fulfill orders; conduct data analysis and create reports; offer certain functionality; or assist Twitch in improving the Twitch Services and creating new services and features. We require that these parties process such information in compliance with this Privacy Policy, we authorize them to use the information only for the purposes for which it is provided to them, and we require them to use reasonable confidentiality measures. Twitch may make information available to our affiliates (meaning entities controlled by, controlling, or under common control with Twitch), including Amazon.com, Inc. and its subsidiaries.Twitch may disclose user information if we believe in good faith that such disclosure is necessary to comply with U.S. state and federal laws or other applicable laws around the world (for example, in the country of your residence), or respond to a court order, judicial or other government request, subpoena, or warrant in the manner legally required. Twitch also reserves the right to disclose information that we believe, in good faith, is appropriate or necessary to protect Twitch from potential liability or from fraudulent, abusive, or unlawful uses; investigate and defend ourselves against third party claims, or allegations; protect the security or integrity of the Twitch Services; or protect the rights, property, or safety of Twitch, our users, or others. Third Party Services and Websites The Twitch Services may link to third party websites or services. The privacy practices of those third parties are not governed by this Privacy Policy. We encourage you to review the privacy policies of these third party websites and services to understand their practices. If you connect to a third party service (such as Facebook, Twitter, or another third party application) through the Twitch Services or otherwise link your Twitch account with a third party service, you are requesting and authorizing us to share or grant access to information on your behalf (such as your username, the fact that your connection originated from the Twitch Services, and other relevant usage and diagnostic information) with such third party. We may also send information about the content you watch or your activities on the Twitch Services to such third parties. For example, we may make information available to app developers, game developers, and game publishers to facilitate purchases and awards of digital goods, such as games and in game items. Twitch may allow advertisers, third party advertising networks and third party advertising serving companies to serve advertisements directly to you within the Twitch Services and other Twitch sites, services and software. By serving these advertisements directly to you, these companies can set their own cookies on your computer and trigger their own Web beacons and other tracking technologies to measure the effectiveness of their advertisements, and to collect and track information such as demographic information, inferred interests, aggregated information, and activity to assist them in personalizing the advertising content delivered to you. Twitch does not provide information that personally identifies you to these third party ad servers or ad networks without your consent. However, if you respond to an advertisement that targets a certain audience (for example, males age 15 to 18 who have participated in certain promotions), the advertiser or ad server may conclude that you fit the description of the audience that they were trying to reach. Merger or Sale In the event that Twitch, or some or all assets related to the Twitch Services are acquired by or merged with a third party entity or in connection with a contemplated change of ownership transaction, we reserve the right, in any of these circumstances, to transfer or assign the information that we have collected from users as part of that merger, acquisition, sale, or other change of control event. \n",
      "\n",
      "\n",
      "\n",
      "User Choice/Control:\n",
      "We use your email address to communicate with you, including to notify you of major Twitch Services updates, for customer service purposes, or to contact you regarding any content that you have posted to or downloaded from the Twitch Services.Twitch may periodically send promotional materials or notifications to you related to the Twitch Services. If you want to stop receiving promotional materials, you can go to your account settings once you have logged in to the Twitch Services or follow the unsubscribe instructions at the bottom of any email from us. If you have installed a mobile app and you wish to stop receiving push notifications, you can change the settings either on your mobile device or through the app. Advertisers and Analytics Providers We may use third party Web analytics services in connection with the Twitch Services, such as those of Google Analytics, its advertising features, and Mixpanel. These service providers use a variety of tracking technologies such as cookies to analyze how users use the Twitch Services. The information collected (described above in “Automatically Collected Information”) will be collected directly by these service providers to evaluate your use of the Twitch Services. For more information on how Google Analytics uses data from our websites and how you can control the information sent to Google, click here. To learn about opting out of Google Analytics, please click here. To opt out of Mixpanel, please click here. Because these opt outs are cookie based, please note that if you get a new computer or device, install or start using a new browser, or erase or alter your browser’s cookie file, you may need to opt out again. This Privacy Policy does not apply to, and we cannot control the tracking technologies and activities of, other advertisers, third party advertising networks, or third party advertising servers. You should consult the respective privacy policies of these advertisers, third party advertising networks, or third party advertising servers. For more information about third party advertising networks and similar entities that use these technologies, see http://www.aboutads.info/consumers, and to opt out of such ad networks’ and services’ advertising practices, for example, Google Analytics advertising features and Google’s use of cookies, go to the Network Advertising Initiative opt out page, the Digital Advertising Alliance opt out page, or the Your Online Choices page. \n",
      "\n",
      "\n",
      "\n",
      "Data Retention:\n",
      "Account Closure & Deletion If you would like to close your account and delete your profile information on www.twitch.tv go to http://www.twitch.tv/user/delete_account. For Twitch Services other than twitch.tv, you may update or delete information tied to your account, or close an account, by accessing the “My Account” area of the service or by submitting a help ticket to that service. If you close your account, Twitch may retain other information about you for the activities described in this Privacy Policy, or as permitted or required by applicable law. \n",
      "\n",
      "\n",
      "\n",
      "Data Security:\n",
      "Data Security Twitch uses a variety of managerial, technical, and physical measures to protect the integrity and security of your information. These measures may vary based on the sensitivity of your information. However, no security precautions or systems can be completely secure. We cannot ensure or warrant the security of any information you transmit to Twitch, and you do so at your own risk. We cannot guarantee that such information may not be accessed, disclosed, altered, or destroyed by breach of any of our physical, technical, or managerial safeguards. \n",
      "\n",
      "\n",
      "\n",
      "Policy Change:\n",
      "Changes and Updates to this Privacy Policy Twitch reserves the right to change, modify, add, or remove portions of this Privacy Policy at any time (for example to reflect updates to the Twitch Services or to reflect changes in the law). If Twitch changes this Privacy Policy, we will provide you notice of these changes, such as by sending an email, posting a notice on the Twitch Services, or updating the “Last Updated” date above. Please check this Privacy Policy periodically for those changes. Your continued use of the Twitch Services after the posting of changes constitutes your binding acceptance of such changes. \n",
      "\n",
      "\n",
      "\n",
      "Do Not Track:\n",
      "Do Not Track Do Not Track (“ DNT ”) is a privacy preference that users can set in certain web browsers. DNT is a way for users to inform websites and services that they do not want certain information about their webpage visits collected over time and across websites or online services. We are committed to providing you with meaningful choices about the information collected on our website for third party purposes, and that is why we provide the Network Advertising Initiative and the Digital Advertising Alliance opt out links above. However, we do not recognize or respond to browser initiated DNT signals, as the Internet industry is currently still working toward defining exactly what DNT means, what it means to comply with DNT, and a common approach to responding to DNT. \n",
      "\n",
      "\n",
      "\n",
      "International and Specific Audiences:\n",
      "Children’s Privacy IF YOU ARE UNDER 13 YEARS OF AGE, THEN PLEASE DO NOT USE OR ACCESS THE TWITCH SERVICES AT ANY TIME OR IN ANY MANNER. Protecting the privacy of young children is especially important. For that reason, Twitch does not knowingly collect or maintain personal information from persons under 13 years of age. If Twitch learns that personal information of persons under 13 years of age has been collected on or through the Twitch Services, Twitch will take appropriate steps to delete this information. If you are the parent or legal guardian of a child under 13 who has become a Twitch Services member, then please contact Twitch at privacy@twitch.tv to have that child’s account terminated and personal information deleted. Twitch Contact Information Please contact Twitch with any questions or comments about this Privacy Policy at 225 Bush Street, 9th Floor, San Francisco, CA 94104 or by email to privacy@twitch.tv. We will respond to your inquiry within 30 days of its receipt. If you are a California resident, you may have this same information emailed to you by sending a letter to the foregoing address with your email address and a request for this information. California Privacy Rights California law permits users who are California residents to request and obtain from us once a year, free of charge, a list of the third parties to whom we have disclosed their personal information (if any) for their direct marketing purposes in the prior calendar year, as well as the type of personal information disclosed to those parties. Twitch does not currently disclose personal information to third parties for their direct marketing purposes. \n",
      "\n",
      "\n",
      "\n"
     ]
    }
   ],
   "source": [
    "# Print out the original privacy policy segments (Headers still need to be filtered out)\n",
    "for section in twitch_section_dict_with_case_sentence_tokenized:\n",
    "    section_text = \"\"\n",
    "    \n",
    "    for sentence in twitch_section_dict_with_case_sentence_tokenized[section]:\n",
    "        section_text += sentence + ' '\n",
    "    \n",
    "    print(section + ':')\n",
    "    print(section_text[1:])\n",
    "    print(\"\\n\\n\")"
   ]
  }
 ],
 "metadata": {
  "kernelspec": {
   "display_name": "Python 3",
   "language": "python",
   "name": "python3"
  },
  "language_info": {
   "codemirror_mode": {
    "name": "ipython",
    "version": 3
   },
   "file_extension": ".py",
   "mimetype": "text/x-python",
   "name": "python",
   "nbconvert_exporter": "python",
   "pygments_lexer": "ipython3",
   "version": "3.7.6"
  }
 },
 "nbformat": 4,
 "nbformat_minor": 4
}
